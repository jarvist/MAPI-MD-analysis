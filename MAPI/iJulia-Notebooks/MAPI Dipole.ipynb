{
 "metadata": {
  "language": "Julia",
  "name": "",
  "signature": "sha256:867fce12ca1142550e336f634e62125584baddc5b89e60378752b90ec0016145"
 },
 "nbformat": 3,
 "nbformat_minor": 0,
 "worksheets": [
  {
   "cells": [
    {
     "cell_type": "code",
     "collapsed": false,
     "input": [
      "#OK; let's calculate the energy of the Dipole:Dipole interaction in nearest neighbours\n",
      "D=3.336E-30 #Debye in SI\n",
      "\u03b50=8.854E-12 #Units: C2N\u22121m\u22122\n",
      "\n",
      "eV=1.6E-19 #eV in J\n",
      "J=eV^-1\n",
      "\n",
      "NA=6.0221413e+23\n",
      "kJmol=NA/1000\n",
      "\n",
      "D1=2.18D #Methyl-Ammonia; b3lyp/6-31g*\n",
      "D2=2.18D\n",
      "\u00c5=1E-10\n",
      "r=6.29\u00c5 # Sensible figure for MA for consistency; AW\n",
      "#r=6.136\u00c5 #Cubic Perov MAPI cell size\n",
      "\n",
      "DipoleInteraction_SI=2*D1*D2/(4*pi*\u03b50*r^3)\n",
      "DipoleInteraction_SI*J\n",
      "\n",
      "#This energy is relative to flat dipole, perpendicular to field; so total energy is 2 x\n",
      "2.0*DipoleInteraction_SI*J\n",
      "\n",
      "#2.0*DipoleInteraction_SI*kJmol\n"
     ],
     "language": "python",
     "metadata": {},
     "outputs": [
      {
       "metadata": {},
       "output_type": "pyout",
       "prompt_number": 6,
       "text": [
        "0.047753340998262124"
       ]
      }
     ],
     "prompt_number": 6
    },
    {
     "cell_type": "code",
     "collapsed": false,
     "input": [
      "#OK, now interaction of dipole with background field of 1V/um\n",
      "Efield=10E+6 #Field strength (SI)\n",
      "\n",
      "print(\"\\n\",D1*Efield*J) #Interaction with field, cast back to eV\n",
      "\n",
      "#Again, I believe this energy is relative to flat dipole\n",
      "print(\"\\n\",2.0*D1*Efield*J)\n",
      "\n",
      "#2.0*D1*Efield*kJmol"
     ],
     "language": "python",
     "metadata": {},
     "outputs": [
      {
       "output_type": "stream",
       "stream": "stdout",
       "text": [
        "\n",
        "0."
       ]
      },
      {
       "output_type": "stream",
       "stream": "stdout",
       "text": [
        "00045453000000000003\n",
        "0.0009090600000000001"
       ]
      }
     ],
     "prompt_number": 8
    },
    {
     "cell_type": "code",
     "collapsed": false,
     "input": [
      "# OK, let's look at the fully Flourinated version\n",
      "D1=6.58D\n",
      "D2=D1\n",
      "DipoleInteraction_SI=2*D1*D2/(4*pi*\u03b50*r^3)\n",
      "2.0*DipoleInteraction_SI*J\n",
      "\n",
      "2.0*DipoleInteraction_SI*kJmol"
     ],
     "language": "python",
     "metadata": {},
     "outputs": [
      {
       "metadata": {},
       "output_type": "pyout",
       "prompt_number": 11,
       "text": [
        "41.91924825940847"
       ]
      }
     ],
     "prompt_number": 11
    },
    {
     "cell_type": "code",
     "collapsed": false,
     "input": [
      "# This is the figure for interaction with background field, in units of eV / Debye\n",
      "2*D*Efield*J"
     ],
     "language": "python",
     "metadata": {},
     "outputs": [
      {
       "metadata": {},
       "output_type": "pyout",
       "prompt_number": 4,
       "text": [
        "4.1700000000000004e-5"
       ]
      }
     ],
     "prompt_number": 4
    },
    {
     "cell_type": "code",
     "collapsed": false,
     "input": [
      "#Now formaminium\n",
      "D1=0.1631D\n",
      "D2=D1\n",
      "\n",
      "DipoleInteraction_SI=2*D1*D2/(4*pi*\u03b50*r^3)\n",
      "2.0*DipoleInteraction_SI*J\n",
      "2.0*DipoleInteraction_SI*kJmol\n"
     ],
     "language": "python",
     "metadata": {},
     "outputs": [
      {
       "metadata": {},
       "output_type": "pyout",
       "prompt_number": 7,
       "text": [
        "0.02575547836979432"
       ]
      }
     ],
     "prompt_number": 7
    },
    {
     "cell_type": "code",
     "collapsed": false,
     "input": [
      "# OK, let's look at the fully Flourinated version\n",
      "D1=6.5838D\n",
      "D2=D1\n",
      "DipoleInteraction_SI=2*D1*D2/(4*pi*\u03b50*r^3)\n",
      "2.0*DipoleInteraction_SI*J\n",
      "2.0*DipoleInteraction_SI*kJmol"
     ],
     "language": "python",
     "metadata": {},
     "outputs": [
      {
       "metadata": {},
       "output_type": "pyout",
       "prompt_number": 12,
       "text": [
        "41.96767960891793"
       ]
      }
     ],
     "prompt_number": 12
    },
    {
     "cell_type": "code",
     "collapsed": false,
     "input": [
      "# Polarisation density, following Aron\n",
      "\n",
      "D1=2.2D\n",
      "\n",
      "D1/(r^3) #SI units...\n",
      "\n",
      "D1/r^3* (1E-4/1E-6) # units of uC/cm^2"
     ],
     "language": "python",
     "metadata": {},
     "outputs": [
      {
       "metadata": {},
       "output_type": "pyout",
       "prompt_number": 6,
       "text": [
        "2.949149485291803"
       ]
      }
     ],
     "prompt_number": 6
    },
    {
     "cell_type": "code",
     "collapsed": false,
     "input": [
      "180E-3*(kJmol/J)"
     ],
     "language": "python",
     "metadata": {},
     "outputs": [
      {
       "metadata": {},
       "output_type": "pyout",
       "prompt_number": 19,
       "text": [
        "17.343766944"
       ]
      }
     ],
     "prompt_number": 19
    },
    {
     "cell_type": "code",
     "collapsed": false,
     "input": [],
     "language": "python",
     "metadata": {},
     "outputs": []
    }
   ],
   "metadata": {}
  }
 ]
}