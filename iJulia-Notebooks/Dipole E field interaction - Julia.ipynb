{
 "metadata": {
  "language": "Julia",
  "name": "",
  "signature": "sha256:e963e7d852754a4778bed764f3c065225f2534373e56a65d9fc893bda63a1082"
 },
 "nbformat": 3,
 "nbformat_minor": 0,
 "worksheets": [
  {
   "cells": [
    {
     "cell_type": "code",
     "collapsed": false,
     "input": [
      "# Constants\n",
      "Epsilon0 = 8.854187817E-12\n",
      "eV = 1.60217657E-19\n",
      "D = 3.33564E-30\n",
      "\n",
      "#Variables\n",
      "E0 = 10 * 1e6\n",
      "E0 = 1 / 100E-9 # Direct calculation - 1 V over 100 nm\n",
      "p = 2.29 * D #MA via Nanoletters paper\n",
      "\n",
      "#Calculations\n",
      "U=(p*E0)\n",
      "#/(4\u03c0*Epsilon0)\n",
      "print(\"In Joules, \",U)\n",
      "\n",
      "print(\"\\nIn eV, \",U/eV)\n",
      "\n",
      "print(\"\\nIn meV, \",1000*U/eV)\n",
      "\n",
      "# Dipole-dipole interaction, nearest neighbour\n",
      "\u00c5=1E-10\n",
      "r=6.29\u00c5\n",
      "DipoleDipole=2*p*p/(4\u03c0*Epsilon0*r^3)\n",
      "\n",
      "print(\"\\nNearest neighbour dipole-dipole interaction in meV: \",1000*DipoleDipole/eV)"
     ],
     "language": "python",
     "metadata": {},
     "outputs": [
      {
       "output_type": "stream",
       "stream": "stdout",
       "text": [
        "In Joules, 7"
       ]
      },
      {
       "output_type": "stream",
       "stream": "stdout",
       "text": [
        ".638615600000001e-23\n",
        "In eV, 0.00047676490488186336\n",
        "In meV, 0.47676490488186335\n",
        "Nearest neighbour dipole-dipole interaction in meV: 26.305005670867388"
       ]
      }
     ],
     "prompt_number": 1
    },
    {
     "cell_type": "code",
     "collapsed": false,
     "input": [
      "1/(26.305005670867388/0.47676490488186335)\n"
     ],
     "language": "python",
     "metadata": {},
     "outputs": [
      {
       "metadata": {},
       "output_type": "pyout",
       "prompt_number": 40,
       "text": [
        "0.018124493522154117"
       ]
      }
     ],
     "prompt_number": 40
    },
    {
     "cell_type": "code",
     "collapsed": false,
     "input": [],
     "language": "python",
     "metadata": {},
     "outputs": []
    }
   ],
   "metadata": {}
  }
 ]
}