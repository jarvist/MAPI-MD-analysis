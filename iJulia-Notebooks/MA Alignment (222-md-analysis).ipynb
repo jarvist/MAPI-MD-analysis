{
 "metadata": {
  "language": "Julia",
  "name": "",
  "signature": "sha256:2feb654dc283cd1dff31a83d84b954a7a9fca4b345e91e289df87a31f833aedb"
 },
 "nbformat": 3,
 "nbformat_minor": 0,
 "worksheets": [
  {
   "cells": [
    {
     "cell_type": "code",
     "collapsed": false,
     "input": [
      "#collapsing down to 'nearest to' distributions\n",
      "#From sphereical generation,\n",
      "sphere=[27312.0, 44335.0, 28353.0]\n",
      "sum(sphere)"
     ],
     "language": "python",
     "metadata": {},
     "outputs": [
      {
       "metadata": {},
       "output_type": "pyout",
       "prompt_number": 27,
       "text": [
        "100000.0"
       ]
      }
     ],
     "prompt_number": 27
    },
    {
     "cell_type": "code",
     "collapsed": false,
     "input": [
      "MA=[6497.0, 7822.0, 4228.0]"
     ],
     "language": "python",
     "metadata": {},
     "outputs": [
      {
       "metadata": {},
       "output_type": "pyout",
       "prompt_number": 28,
       "text": [
        "3-element Array{Float64,1}:\n",
        " 6497.0\n",
        " 7822.0\n",
        " 4228.0"
       ]
      }
     ],
     "prompt_number": 28
    },
    {
     "cell_type": "code",
     "collapsed": false,
     "input": [
      "(sphere./[6.0,12.0,8.0])\n",
      "sphere./sum(sphere)\n"
     ],
     "language": "python",
     "metadata": {},
     "outputs": [
      {
       "metadata": {},
       "output_type": "pyout",
       "prompt_number": 29,
       "text": [
        "3-element Array{Float64,1}:\n",
        " 0.27312\n",
        " 0.44335\n",
        " 0.28353"
       ]
      }
     ],
     "prompt_number": 29
    },
    {
     "cell_type": "code",
     "collapsed": false,
     "input": [
      "# Simple 'naive' binning\n",
      "MA./(sum(MA))"
     ],
     "language": "python",
     "metadata": {},
     "outputs": [
      {
       "metadata": {},
       "output_type": "pyout",
       "prompt_number": 10,
       "text": [
        "3-element Array{Float64,1}:\n",
        " 0.350299\n",
        " 0.421739\n",
        " 0.227961"
       ]
      }
     ],
     "prompt_number": 10
    },
    {
     "cell_type": "code",
     "collapsed": false,
     "input": [
      "# weight by spherical distribution\n",
      "MA_weighted=MA./sphere"
     ],
     "language": "python",
     "metadata": {},
     "outputs": [
      {
       "metadata": {},
       "output_type": "pyout",
       "prompt_number": 14,
       "text": [
        "3-element Array{Float64,1}:\n",
        " 0.237881\n",
        " 0.176429\n",
        " 0.14912 "
       ]
      }
     ],
     "prompt_number": 14
    },
    {
     "cell_type": "code",
     "collapsed": false,
     "input": [
      "# normalise for text\n",
      "MA_weighted./(sum(MA_weighted))"
     ],
     "language": "python",
     "metadata": {},
     "outputs": [
      {
       "metadata": {},
       "output_type": "pyout",
       "prompt_number": 17,
       "text": [
        "3-element Array{Float64,1}:\n",
        " 0.422201\n",
        " 0.313135\n",
        " 0.264665"
       ]
      }
     ],
     "prompt_number": 17
    },
    {
     "cell_type": "code",
     "collapsed": false,
     "input": [
      "[274224.0, 444142.0, 281634.0]./sum([274224.0, 444142.0, 281634.0])"
     ],
     "language": "python",
     "metadata": {},
     "outputs": [
      {
       "metadata": {},
       "output_type": "pyout",
       "prompt_number": 30,
       "text": [
        "3-element Array{Float64,1}:\n",
        " 0.274224\n",
        " 0.444142\n",
        " 0.281634"
       ]
      }
     ],
     "prompt_number": 30
    },
    {
     "cell_type": "code",
     "collapsed": false,
     "input": [],
     "language": "python",
     "metadata": {},
     "outputs": []
    }
   ],
   "metadata": {}
  }
 ]
}